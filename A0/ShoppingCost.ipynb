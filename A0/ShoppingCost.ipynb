{
 "cells": [
  {
   "cell_type": "code",
   "execution_count": 1,
   "metadata": {},
   "outputs": [],
   "source": [
    "import csv"
   ]
  },
  {
   "cell_type": "code",
   "execution_count": 2,
   "metadata": {},
   "outputs": [],
   "source": [
    "def createPricesDict(filename):\n",
    "    productPrice = {}\n",
    "    with open(filename) as csvfile:\n",
    "        readCSV = csv.reader(csvfile, delimiter=',')\n",
    "        for row in readCSV:\n",
    "            productPrice[row[0]] = row[1]\n",
    "    return productPrice"
   ]
  },
  {
   "cell_type": "code",
   "execution_count": 3,
   "metadata": {},
   "outputs": [],
   "source": [
    "#createPricesDict(\"Grocery.csv\")"
   ]
  },
  {
   "cell_type": "code",
   "execution_count": 4,
   "metadata": {},
   "outputs": [],
   "source": [
    "def calculateShoppingCost(productPrices, shoppingCart):\n",
    "    finalCost = 0\n",
    "    for x in shoppingCart:\n",
    "        itemNum = float(shoppingCart[x])\n",
    "        print(itemNum)\n",
    "        itemPrice = float(productPrices[x])\n",
    "        print(itemPrice)\n",
    "        itemCost = itemNum * itemPrice\n",
    "        print(itemCost)\n",
    "        finalCost += itemCost\n",
    "        \n",
    "    return finalCost"
   ]
  },
  {
   "cell_type": "code",
   "execution_count": 5,
   "metadata": {},
   "outputs": [
    {
     "name": "stdout",
     "output_type": "stream",
     "text": [
      "2.0\n",
      "7.12\n",
      "14.24\n",
      "1.0\n",
      "5.79\n",
      "5.79\n",
      "5.0\n",
      "3.11\n",
      "15.549999999999999\n",
      "The final cost for our shopping cart is 35.58\n"
     ]
    }
   ],
   "source": [
    "if __name__ == '__main__':\n",
    "\tprices = createPricesDict(\"Grocery.csv\")\n",
    "\tmyCart = {\"Bacon\": 2,\n",
    "\t\t      \"Homogenized milk\": 1,\n",
    "\t\t      \"Eggs\": 5}\n",
    "\tprint(\"The final cost for our shopping cart is {}\".format(calculateShoppingCost(prices, myCart)))"
   ]
  },
  {
   "cell_type": "code",
   "execution_count": null,
   "metadata": {},
   "outputs": [],
   "source": []
  }
 ],
 "metadata": {
  "kernelspec": {
   "display_name": "Python 3",
   "language": "python",
   "name": "python3"
  },
  "language_info": {
   "codemirror_mode": {
    "name": "ipython",
    "version": 3
   },
   "file_extension": ".py",
   "mimetype": "text/x-python",
   "name": "python",
   "nbconvert_exporter": "python",
   "pygments_lexer": "ipython3",
   "version": "3.7.3"
  }
 },
 "nbformat": 4,
 "nbformat_minor": 2
}
